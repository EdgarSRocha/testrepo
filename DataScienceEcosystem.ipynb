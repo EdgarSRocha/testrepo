{
 "cells": [
  {
   "cell_type": "markdown",
   "id": "1167868a-e48e-42fe-9678-9ab0332a6abd",
   "metadata": {},
   "source": [
    "# Data Science Tools and Ecosystem"
   ]
  },
  {
   "cell_type": "markdown",
   "id": "c596a7cf-b317-4916-b8b1-a5663a577f8c",
   "metadata": {},
   "source": [
    "In this notebook, Data Science Tools and Ecosystem are summarized."
   ]
  },
  {
   "cell_type": "markdown",
   "id": "96b144b1-1e7b-42e8-9835-5af9594ef803",
   "metadata": {},
   "source": [
    "**Objectives:**\n",
    "\n",
    "- List popular languages for data science.\n",
    "  \n",
    "- Explore commonly used libraries in Data Science.\n",
    "  \n",
    "- Understand development enviroment tools for Data Science.\n",
    "  \n",
    "- Create and work with Markdown cells in Jupyter Notebook.\n",
    "  \n",
    "- Practice basic Python operations for Dta manipulation."
   ]
  },
  {
   "cell_type": "markdown",
   "id": "6ad7fee6-14a4-40f2-aa0e-9997f982633d",
   "metadata": {},
   "source": [
    "Some of the popular languages that Data Scientists use are:\n",
    "\n",
    "ordered list\n",
    "\n",
    "1. Python\n",
    "\n",
    "2. R\n",
    "\n",
    "3. SQL\n",
    "\n",
    "4. Julia\n",
    "\n",
    "5. Java"
   ]
  },
  {
   "cell_type": "markdown",
   "id": "70ab02ec-9bb8-44e9-b2a7-2ffe4acf25ac",
   "metadata": {},
   "source": [
    "Some of the commonly used libraries used by Data Scientists include:\n",
    "\n",
    "ordered list:\n",
    "\n",
    "1. Pandas - For data manipulation and analysis.\n",
    "\n",
    "2. NumPy - For numerical computing and array operations.\n",
    "\n",
    "3. Matplotlib - For data visualisation and plotting.\n",
    "\n",
    "4. Scikit-learn - For machine learning and predictive modeling.\n",
    "\n",
    "5. TensorFlow - For deep learning and neural networks."
   ]
  },
  {
   "cell_type": "markdown",
   "id": "5ad28bfd-de23-4533-bd47-baea658c084b",
   "metadata": {},
   "source": [
    "Data Science Tools\n",
    "\n",
    "1. Jupyter Notebook - An interactive computing enviroment that supports Python,R, and Julia,  commonly used for data analysis and visualization.\n",
    "\n",
    "2. RStudio - An interactive development enviroment (IDE) for R, widely used for statistical computing and data visualization.\n",
    "\n",
    "3. VSCode (Visual Studio Code) - A lightweight and extensible code editor with plugins for Python, Jupyter Notebooks, and other data science tools.\n"
   ]
  },
  {
   "cell_type": "markdown",
   "id": "b5749c5d-3b8a-4940-bc53-20fa168a5e36",
   "metadata": {},
   "source": [
    "### Below are a few examples of evaluating arithmetic expressions in Python"
   ]
  },
  {
   "cell_type": "code",
   "execution_count": null,
   "id": "30c794c7-6d71-4540-a874-a5619d72bf2a",
   "metadata": {},
   "outputs": [],
   "source": [
    "This a simple arithmetic expression to mutiply then add integers"
   ]
  },
  {
   "cell_type": "code",
   "execution_count": 11,
   "id": "099b841a-7f65-4b9d-af82-d898e5c66f9c",
   "metadata": {},
   "outputs": [
    {
     "data": {
      "text/plain": [
       "17"
      ]
     },
     "execution_count": 11,
     "metadata": {},
     "output_type": "execute_result"
    }
   ],
   "source": [
    "(3*4)+5"
   ]
  },
  {
   "cell_type": "code",
   "execution_count": null,
   "id": "a4b97c5c-dd92-4f9d-9eaa-a6d433789995",
   "metadata": {},
   "outputs": [],
   "source": [
    "This will convert 200 minutes to hours by diving by 60"
   ]
  },
  {
   "cell_type": "code",
   "execution_count": 12,
   "id": "502a875d-5b63-486f-8b7e-976d77b67938",
   "metadata": {},
   "outputs": [
    {
     "data": {
      "text/plain": [
       "3.3333333333333335"
      ]
     },
     "execution_count": 12,
     "metadata": {},
     "output_type": "execute_result"
    }
   ],
   "source": [
    "# Convert minutes to hours \n",
    "minutes = 200\n",
    "hours = minutes / 60 \n",
    "hours"
   ]
  },
  {
   "cell_type": "markdown",
   "id": "8f05e82f-e212-4e17-b9c5-52a6ac7aa666",
   "metadata": {},
   "source": [
    "## Author\n",
    "\n",
    "Edgar Rocha"
   ]
  }
 ],
 "metadata": {
  "kernelspec": {
   "display_name": "Python 3 (ipykernel)",
   "language": "python",
   "name": "python3"
  },
  "language_info": {
   "codemirror_mode": {
    "name": "ipython",
    "version": 3
   },
   "file_extension": ".py",
   "mimetype": "text/x-python",
   "name": "python",
   "nbconvert_exporter": "python",
   "pygments_lexer": "ipython3",
   "version": "3.11.9"
  }
 },
 "nbformat": 4,
 "nbformat_minor": 5
}
