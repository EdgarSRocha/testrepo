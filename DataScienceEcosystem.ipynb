{
 "cells": [
  {
   "cell_type": "markdown",
   "id": "1167868a-e48e-42fe-9678-9ab0332a6abd",
   "metadata": {},
   "source": [
    "# Data Science Tools and Ecosystem"
   ]
  },
  {
   "cell_type": "markdown",
   "id": "2591e921-330c-4a1e-987a-5e1d8dca085b",
   "metadata": {},
   "source": [
    "In this notebook, Data Science Tools and Ecosystem are summarized.\n"
   ]
  },
  {
   "cell_type": "markdown",
   "id": "28b6425a-a47e-4bf9-9a1f-ce229dd730b1",
   "metadata": {},
   "source": [
    "**Objectives:**\n",
    "\n",
    "- List popular languages for data science.\n",
    "- Explore commonly used libraries in Data Science.\n",
    "- Understand development enviroment tools for Data Science.\n",
    "- Create and work with Markdown cells in Jupyter Notebook.\n",
    "- Practice basic Python operations for Dta manipulation."
   ]
  },
  {
   "cell_type": "markdown",
   "id": "a00efdc1-a6b4-4f59-9763-8a63b33bc26a",
   "metadata": {},
   "source": [
    "Some of the popular languages that Data Scientists use are:\n",
    "\n",
    "ordered list:\n",
    "\n",
    "1. Python\n",
    "\n",
    "2. R\n",
    "\n",
    "3. SQL\n",
    "\n",
    "4. Julia\n",
    "\n",
    "5. Java"
   ]
  },
  {
   "cell_type": "markdown",
   "id": "f085cf0b-0b07-40a6-b79c-111f73df38d2",
   "metadata": {},
   "source": [
    "Some of the commonly used libraries used by Data Scientists include:\n",
    "\n",
    "ordered list:\n",
    "\n",
    "1. Pandas - For data manipulation and analysis.\n",
    "\n",
    "2. NumPy - For numerical computing and array operations.\n",
    "\n",
    "3. Matplotlib - For data visualisation and plotting.\n",
    "\n",
    "4. Scikit-learn - For machine learning and predictive modeling.\n",
    "\n",
    "5. TensorFlow - For deep learning and neural networks.\n"
   ]
  },
  {
   "cell_type": "markdown",
   "id": "3d65992c-67f4-4037-aca7-e8b6b60d33a4",
   "metadata": {},
   "source": [
    "Data Science Tools\n",
    "\n",
    "1. Jupyter Notebook - An interactive computing enviroment that supports Python,R, and Julia,  commonly used for data analysis and visualization.\n",
    "\n",
    "2. RStudio - An interactive development enviroment (IDE) for R, widely used for statistical computing and data visualization.\n",
    "\n",
    "3. VSCode (Visual Studio Code) - A lightweight and extensible code editor with plugins for Python, Jupyter Notebooks, and other data science tools.\n"
   ]
  },
  {
   "cell_type": "markdown",
   "id": "26ccdb23-717d-4f01-992a-cc5c8f33347d",
   "metadata": {},
   "source": [
    "### Below are a few examples of evaluating arithmetic expressions in Python"
   ]
  },
  {
   "cell_type": "code",
   "execution_count": null,
   "id": "7afb89a9-8121-45b0-a711-4d21dab48286",
   "metadata": {},
   "outputs": [],
   "source": [
    "This a simple arithmetic expression to mutiply then add integers"
   ]
  },
  {
   "cell_type": "code",
   "execution_count": 8,
   "id": "bd2c3d77-6d94-432d-8c2f-7e2b4f413e43",
   "metadata": {},
   "outputs": [
    {
     "data": {
      "text/plain": [
       "17"
      ]
     },
     "execution_count": 8,
     "metadata": {},
     "output_type": "execute_result"
    }
   ],
   "source": [
    "(3*4)+5"
   ]
  },
  {
   "cell_type": "code",
   "execution_count": null,
   "id": "a2fc164f-55fc-4d27-938c-44daee021f7c",
   "metadata": {},
   "outputs": [],
   "source": [
    "This will convert 200 minutes to hours by diving by 60"
   ]
  },
  {
   "cell_type": "code",
   "execution_count": 10,
   "id": "733f182a-685b-41e3-ba05-7c2814d6db14",
   "metadata": {},
   "outputs": [
    {
     "data": {
      "text/plain": [
       "3.3333333333333335"
      ]
     },
     "execution_count": 10,
     "metadata": {},
     "output_type": "execute_result"
    }
   ],
   "source": [
    "# Convert minutes to hours \n",
    "minutes = 200\n",
    "hours = minutes / 60 \n",
    "hours"
   ]
  },
  {
   "cell_type": "markdown",
   "id": "ff46db91-8947-4e2c-b4f8-942a0f2f234a",
   "metadata": {},
   "source": [
    "## Author\n",
    "\n",
    "Edgar Rocha"
   ]
  }
 ],
 "metadata": {
  "kernelspec": {
   "display_name": "Python 3 (ipykernel)",
   "language": "python",
   "name": "python3"
  },
  "language_info": {
   "codemirror_mode": {
    "name": "ipython",
    "version": 3
   },
   "file_extension": ".py",
   "mimetype": "text/x-python",
   "name": "python",
   "nbconvert_exporter": "python",
   "pygments_lexer": "ipython3",
   "version": "3.11.9"
  }
 },
 "nbformat": 4,
 "nbformat_minor": 5
}
